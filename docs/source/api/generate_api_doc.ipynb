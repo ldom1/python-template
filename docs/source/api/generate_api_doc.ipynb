{
 "cells": [
  {
   "cell_type": "markdown",
   "metadata": {},
   "source": [
    "# Generate the API documentation\n",
    "\n",
    "To generate the API documentation, the openapi json file can be retrieved from the server and converted to yaml file. The yaml file can be used to generate the html documentation, using [sphinxcontrib-openapi](https://pypi.org/project/sphinxcontrib-openapi/)"
   ]
  },
  {
   "cell_type": "code",
   "execution_count": 2,
   "metadata": {},
   "outputs": [],
   "source": [
    "import yaml\n",
    "\n",
    "from fastapi.testclient import TestClient\n",
    "from python_template.main import app\n",
    "\n",
    "client = TestClient(app)\n",
    "\n",
    "\n",
    "response = client.get(\"openapi.json\")\n",
    "openapi_schema = response.json()\n",
    "\n",
    "with open(\"openapi.yaml\", \"w\") as file:\n",
    "    yaml.dump(openapi_schema, file)"
   ]
  }
 ],
 "metadata": {
  "kernelspec": {
   "display_name": ".venv",
   "language": "python",
   "name": "python3"
  },
  "language_info": {
   "codemirror_mode": {
    "name": "ipython",
    "version": 3
   },
   "file_extension": ".py",
   "mimetype": "text/x-python",
   "name": "python",
   "nbconvert_exporter": "python",
   "pygments_lexer": "ipython3",
   "version": "3.10.11"
  }
 },
 "nbformat": 4,
 "nbformat_minor": 2
}
